{
  "nbformat": 4,
  "nbformat_minor": 0,
  "metadata": {
    "colab": {
      "provenance": []
    },
    "kernelspec": {
      "name": "python3",
      "display_name": "Python 3"
    },
    "language_info": {
      "name": "python"
    },
    "accelerator": "GPU",
    "gpuClass": "standard",
    "widgets": {
      "application/vnd.jupyter.widget-state+json": {
        "ad506cb687e24904ba9a391703472f91": {
          "model_module": "@jupyter-widgets/controls",
          "model_name": "HBoxModel",
          "model_module_version": "1.5.0",
          "state": {
            "_dom_classes": [],
            "_model_module": "@jupyter-widgets/controls",
            "_model_module_version": "1.5.0",
            "_model_name": "HBoxModel",
            "_view_count": null,
            "_view_module": "@jupyter-widgets/controls",
            "_view_module_version": "1.5.0",
            "_view_name": "HBoxView",
            "box_style": "",
            "children": [
              "IPY_MODEL_5d5c5ea051ad4ff3a1afdb2f2a57ab36",
              "IPY_MODEL_0956439bf9274338987cd157bc332877",
              "IPY_MODEL_82b7cec917c54a51a162566d458a2d3b"
            ],
            "layout": "IPY_MODEL_50e2634af8b4434ba373dd866ea30bf9"
          }
        },
        "5d5c5ea051ad4ff3a1afdb2f2a57ab36": {
          "model_module": "@jupyter-widgets/controls",
          "model_name": "HTMLModel",
          "model_module_version": "1.5.0",
          "state": {
            "_dom_classes": [],
            "_model_module": "@jupyter-widgets/controls",
            "_model_module_version": "1.5.0",
            "_model_name": "HTMLModel",
            "_view_count": null,
            "_view_module": "@jupyter-widgets/controls",
            "_view_module_version": "1.5.0",
            "_view_name": "HTMLView",
            "description": "",
            "description_tooltip": null,
            "layout": "IPY_MODEL_b7125439696a430084c86684e9ab4f14",
            "placeholder": "​",
            "style": "IPY_MODEL_0138b7ad4f7c4cc18eed22efce37cafe",
            "value": "100%"
          }
        },
        "0956439bf9274338987cd157bc332877": {
          "model_module": "@jupyter-widgets/controls",
          "model_name": "FloatProgressModel",
          "model_module_version": "1.5.0",
          "state": {
            "_dom_classes": [],
            "_model_module": "@jupyter-widgets/controls",
            "_model_module_version": "1.5.0",
            "_model_name": "FloatProgressModel",
            "_view_count": null,
            "_view_module": "@jupyter-widgets/controls",
            "_view_module_version": "1.5.0",
            "_view_name": "ProgressView",
            "bar_style": "success",
            "description": "",
            "description_tooltip": null,
            "layout": "IPY_MODEL_421db404bb064b53b10c605134887825",
            "max": 170498071,
            "min": 0,
            "orientation": "horizontal",
            "style": "IPY_MODEL_b615ba160d5340d6a63de244e386c222",
            "value": 170498071
          }
        },
        "82b7cec917c54a51a162566d458a2d3b": {
          "model_module": "@jupyter-widgets/controls",
          "model_name": "HTMLModel",
          "model_module_version": "1.5.0",
          "state": {
            "_dom_classes": [],
            "_model_module": "@jupyter-widgets/controls",
            "_model_module_version": "1.5.0",
            "_model_name": "HTMLModel",
            "_view_count": null,
            "_view_module": "@jupyter-widgets/controls",
            "_view_module_version": "1.5.0",
            "_view_name": "HTMLView",
            "description": "",
            "description_tooltip": null,
            "layout": "IPY_MODEL_45aa7b204380456582f31728975bffde",
            "placeholder": "​",
            "style": "IPY_MODEL_94495fee9f30491fa6a8491f0a3cb9e4",
            "value": " 170498071/170498071 [00:14&lt;00:00, 14003456.95it/s]"
          }
        },
        "50e2634af8b4434ba373dd866ea30bf9": {
          "model_module": "@jupyter-widgets/base",
          "model_name": "LayoutModel",
          "model_module_version": "1.2.0",
          "state": {
            "_model_module": "@jupyter-widgets/base",
            "_model_module_version": "1.2.0",
            "_model_name": "LayoutModel",
            "_view_count": null,
            "_view_module": "@jupyter-widgets/base",
            "_view_module_version": "1.2.0",
            "_view_name": "LayoutView",
            "align_content": null,
            "align_items": null,
            "align_self": null,
            "border": null,
            "bottom": null,
            "display": null,
            "flex": null,
            "flex_flow": null,
            "grid_area": null,
            "grid_auto_columns": null,
            "grid_auto_flow": null,
            "grid_auto_rows": null,
            "grid_column": null,
            "grid_gap": null,
            "grid_row": null,
            "grid_template_areas": null,
            "grid_template_columns": null,
            "grid_template_rows": null,
            "height": null,
            "justify_content": null,
            "justify_items": null,
            "left": null,
            "margin": null,
            "max_height": null,
            "max_width": null,
            "min_height": null,
            "min_width": null,
            "object_fit": null,
            "object_position": null,
            "order": null,
            "overflow": null,
            "overflow_x": null,
            "overflow_y": null,
            "padding": null,
            "right": null,
            "top": null,
            "visibility": null,
            "width": null
          }
        },
        "b7125439696a430084c86684e9ab4f14": {
          "model_module": "@jupyter-widgets/base",
          "model_name": "LayoutModel",
          "model_module_version": "1.2.0",
          "state": {
            "_model_module": "@jupyter-widgets/base",
            "_model_module_version": "1.2.0",
            "_model_name": "LayoutModel",
            "_view_count": null,
            "_view_module": "@jupyter-widgets/base",
            "_view_module_version": "1.2.0",
            "_view_name": "LayoutView",
            "align_content": null,
            "align_items": null,
            "align_self": null,
            "border": null,
            "bottom": null,
            "display": null,
            "flex": null,
            "flex_flow": null,
            "grid_area": null,
            "grid_auto_columns": null,
            "grid_auto_flow": null,
            "grid_auto_rows": null,
            "grid_column": null,
            "grid_gap": null,
            "grid_row": null,
            "grid_template_areas": null,
            "grid_template_columns": null,
            "grid_template_rows": null,
            "height": null,
            "justify_content": null,
            "justify_items": null,
            "left": null,
            "margin": null,
            "max_height": null,
            "max_width": null,
            "min_height": null,
            "min_width": null,
            "object_fit": null,
            "object_position": null,
            "order": null,
            "overflow": null,
            "overflow_x": null,
            "overflow_y": null,
            "padding": null,
            "right": null,
            "top": null,
            "visibility": null,
            "width": null
          }
        },
        "0138b7ad4f7c4cc18eed22efce37cafe": {
          "model_module": "@jupyter-widgets/controls",
          "model_name": "DescriptionStyleModel",
          "model_module_version": "1.5.0",
          "state": {
            "_model_module": "@jupyter-widgets/controls",
            "_model_module_version": "1.5.0",
            "_model_name": "DescriptionStyleModel",
            "_view_count": null,
            "_view_module": "@jupyter-widgets/base",
            "_view_module_version": "1.2.0",
            "_view_name": "StyleView",
            "description_width": ""
          }
        },
        "421db404bb064b53b10c605134887825": {
          "model_module": "@jupyter-widgets/base",
          "model_name": "LayoutModel",
          "model_module_version": "1.2.0",
          "state": {
            "_model_module": "@jupyter-widgets/base",
            "_model_module_version": "1.2.0",
            "_model_name": "LayoutModel",
            "_view_count": null,
            "_view_module": "@jupyter-widgets/base",
            "_view_module_version": "1.2.0",
            "_view_name": "LayoutView",
            "align_content": null,
            "align_items": null,
            "align_self": null,
            "border": null,
            "bottom": null,
            "display": null,
            "flex": null,
            "flex_flow": null,
            "grid_area": null,
            "grid_auto_columns": null,
            "grid_auto_flow": null,
            "grid_auto_rows": null,
            "grid_column": null,
            "grid_gap": null,
            "grid_row": null,
            "grid_template_areas": null,
            "grid_template_columns": null,
            "grid_template_rows": null,
            "height": null,
            "justify_content": null,
            "justify_items": null,
            "left": null,
            "margin": null,
            "max_height": null,
            "max_width": null,
            "min_height": null,
            "min_width": null,
            "object_fit": null,
            "object_position": null,
            "order": null,
            "overflow": null,
            "overflow_x": null,
            "overflow_y": null,
            "padding": null,
            "right": null,
            "top": null,
            "visibility": null,
            "width": null
          }
        },
        "b615ba160d5340d6a63de244e386c222": {
          "model_module": "@jupyter-widgets/controls",
          "model_name": "ProgressStyleModel",
          "model_module_version": "1.5.0",
          "state": {
            "_model_module": "@jupyter-widgets/controls",
            "_model_module_version": "1.5.0",
            "_model_name": "ProgressStyleModel",
            "_view_count": null,
            "_view_module": "@jupyter-widgets/base",
            "_view_module_version": "1.2.0",
            "_view_name": "StyleView",
            "bar_color": null,
            "description_width": ""
          }
        },
        "45aa7b204380456582f31728975bffde": {
          "model_module": "@jupyter-widgets/base",
          "model_name": "LayoutModel",
          "model_module_version": "1.2.0",
          "state": {
            "_model_module": "@jupyter-widgets/base",
            "_model_module_version": "1.2.0",
            "_model_name": "LayoutModel",
            "_view_count": null,
            "_view_module": "@jupyter-widgets/base",
            "_view_module_version": "1.2.0",
            "_view_name": "LayoutView",
            "align_content": null,
            "align_items": null,
            "align_self": null,
            "border": null,
            "bottom": null,
            "display": null,
            "flex": null,
            "flex_flow": null,
            "grid_area": null,
            "grid_auto_columns": null,
            "grid_auto_flow": null,
            "grid_auto_rows": null,
            "grid_column": null,
            "grid_gap": null,
            "grid_row": null,
            "grid_template_areas": null,
            "grid_template_columns": null,
            "grid_template_rows": null,
            "height": null,
            "justify_content": null,
            "justify_items": null,
            "left": null,
            "margin": null,
            "max_height": null,
            "max_width": null,
            "min_height": null,
            "min_width": null,
            "object_fit": null,
            "object_position": null,
            "order": null,
            "overflow": null,
            "overflow_x": null,
            "overflow_y": null,
            "padding": null,
            "right": null,
            "top": null,
            "visibility": null,
            "width": null
          }
        },
        "94495fee9f30491fa6a8491f0a3cb9e4": {
          "model_module": "@jupyter-widgets/controls",
          "model_name": "DescriptionStyleModel",
          "model_module_version": "1.5.0",
          "state": {
            "_model_module": "@jupyter-widgets/controls",
            "_model_module_version": "1.5.0",
            "_model_name": "DescriptionStyleModel",
            "_view_count": null,
            "_view_module": "@jupyter-widgets/base",
            "_view_module_version": "1.2.0",
            "_view_name": "StyleView",
            "description_width": ""
          }
        }
      }
    }
  },
  "cells": [
    {
      "cell_type": "markdown",
      "source": [
        "**Nikolas Moustakidis**\n",
        "\n",
        "**AEM: 3743**"
      ],
      "metadata": {
        "id": "44a3l8Cz1472"
      }
    },
    {
      "cell_type": "markdown",
      "source": [
        "**Convolutional Neural Networks**\n",
        "\n",
        "The Convolutional Neural Network (CNN or ConvNet) is a subtype of Neural Networks that is mainly used for applications in image and speech recognition. Its built-in convolutional layer reduces the high dimensionality of images without losing its information. That is why CNNs are especially suited for this use case\n",
        "\n",
        "**Convolutional Neural Networks Basic Steps:**\n",
        "1. Convolution layer, we define a filter/s that determines how large the partial images we are looking at should be, and a step length that decides how many pixels we continue between calculations (convolution between partial images and filters), i.e. how close the partial images are to each other. By taking this step, we have greatly reduced the dimensionality of the image\n",
        "2. Pooling layer, from a purely computational point of view, the same thing happens here as in the convolution layer, with the difference that we only take either the average or maximum value from the result, depending on the application. This preserves small features in a few pixels that are crucial for the task solution while the size reduces drastically\n",
        "3. Fully-connected layer, now that we have greatly reduced the dimensions of the image, we can use the tightly meshed layers. Here, the individual sub-images are linked again in order to recognize the connections and carry out the classification."
      ],
      "metadata": {
        "id": "oLJVMmx1D8co"
      }
    },
    {
      "cell_type": "markdown",
      "source": [
        "**Results and CNN comparison with KNN and Nearest Centroid**\n",
        "\n",
        "As the results show in this notebook the convolutional neural network outperforms by far the classifiers (KNN and NC) which is no surprise ofcourse **(CNN ~90% accuracy, KNN,NC-classifiers ~40% accuracy)**. The CNNs are especially suited for image classification cases where the task is to find patterns and valuable information in an image and distinguise it from the other classes. As I already mentioned the KNN and NC classifiers are not designed for such cases. \n",
        "\n",
        "Instead:\n",
        "* Both classifiers rely on a distance metric to classify the images. This is a \n",
        "problem because they suppose that two inputs that are close (in distance) should belong to the same class and when this is violated both KNN and NC underperform\n",
        "\n",
        "* Euclidean distance between RGB seems fairly meaningless. Two pictures are likely the “same” if we rotate it, adjust the color/saturation/hue, change foreground/background - but all these are considered different under euclidean distance between RGB pixels\n",
        "\n",
        "* The dimension of each picture 3072=32×32×3 is likely too high, and curse of dimensionality kicks in\n",
        "\n",
        "All these and many more reasons make the task for the KNN and NC classifier difficult and unsuitable for them to perform on\n",
        "\n",
        "On the other hand:\n",
        "* CNNs are very effective in reducing the number of parameters without losing on the quality of models\n",
        "* For the computer, an image in RGB notation is the summary of three different matrices. For each pixel of the image, it describes what color that pixel displays. We do this by defining the red component in the first matrix, the green component in the second, and then the blue component in the last"
      ],
      "metadata": {
        "id": "AbjTwU4aLYd_"
      }
    },
    {
      "cell_type": "markdown",
      "source": [
        "**General Plan for CNN:**\n",
        "\n",
        "\n",
        "\n",
        "1.   Load CIFAR 10 Dataset and apply random augmentations to the training set to boost the performace of the models andhelp the model learn instead of overfit\n",
        "2.   Implement 3 different models architectures; a simple one, a standard one and a more complex one\n",
        "3. Train and validate the three models with the same hyperparameters and compare the results\n",
        "4. Pick the best model performance-wise\n",
        "5. Add Batch Normalization and Dropout Layers to help the learning process, avoid overfitting and boost the performance\n",
        "6. Create multiple parameterizations for the model while training, save the best models\n",
        "\n",
        "\n"
      ],
      "metadata": {
        "id": "28NoZ__t9iPe"
      }
    },
    {
      "cell_type": "markdown",
      "source": [
        "**Importing all the appropriate libraries**"
      ],
      "metadata": {
        "id": "2oHu4NLeRYxr"
      }
    },
    {
      "cell_type": "code",
      "execution_count": 1,
      "metadata": {
        "id": "Lu2bCYtNDdEE"
      },
      "outputs": [],
      "source": [
        "import torch\n",
        "import torchvision\n",
        "import torchvision.transforms as transforms\n",
        "import torch.nn as nn\n",
        "import torch.optim as optim\n",
        "import torch.nn.functional as F\n",
        "import matplotlib.pyplot as plt\n",
        "import numpy as np\n",
        "import os\n",
        "import time\n",
        "\n",
        "from random import randint"
      ]
    },
    {
      "cell_type": "markdown",
      "source": [
        "**Downloading the CIFAR-10 dataset and applying augmentations**\n",
        "\n",
        "The output of torchvision datasets are PILImage images of range [0, 1], so we convert them to pytorch tensors in the range of [0,1] and apply augmentations to the training dataset"
      ],
      "metadata": {
        "id": "ar0-mzE4RqPg"
      }
    },
    {
      "cell_type": "code",
      "source": [
        "train_transform = transforms.Compose([\n",
        "    transforms.RandomHorizontalFlip(p=0.5),\n",
        "    transforms.RandomCrop(32, padding=4),\n",
        "    transforms.ToTensor(),\n",
        "    transforms.Normalize([0, 0, 0], [1, 1, 1])\n",
        "])\n",
        "\n",
        "test_transform = transforms.Compose([\n",
        "    transforms.ToTensor(),\n",
        "    transforms.Normalize([0, 0, 0], [1, 1, 1])\n",
        "])\n",
        "\n",
        "trainset = torchvision.datasets.CIFAR10(root='./data', train=True,\n",
        "                                        download=True, transform=train_transform)\n",
        "trainloader = torch.utils.data.DataLoader(trainset, batch_size=32,\n",
        "                                          shuffle=True, num_workers=2)\n",
        "\n",
        "testset = torchvision.datasets.CIFAR10(root='./data', train=False,\n",
        "                                       download=True, transform=test_transform)\n",
        "testloader = torch.utils.data.DataLoader(testset, batch_size=32,\n",
        "                                         shuffle=False, num_workers=2)\n",
        "\n",
        "classes = ('plane', 'car', 'bird', 'cat', 'deer', 'dog', 'frog', 'horse', 'ship', 'truck')"
      ],
      "metadata": {
        "id": "TO_qJ9EvetPO",
        "colab": {
          "base_uri": "https://localhost:8080/",
          "height": 103,
          "referenced_widgets": [
            "ad506cb687e24904ba9a391703472f91",
            "5d5c5ea051ad4ff3a1afdb2f2a57ab36",
            "0956439bf9274338987cd157bc332877",
            "82b7cec917c54a51a162566d458a2d3b",
            "50e2634af8b4434ba373dd866ea30bf9",
            "b7125439696a430084c86684e9ab4f14",
            "0138b7ad4f7c4cc18eed22efce37cafe",
            "421db404bb064b53b10c605134887825",
            "b615ba160d5340d6a63de244e386c222",
            "45aa7b204380456582f31728975bffde",
            "94495fee9f30491fa6a8491f0a3cb9e4"
          ]
        },
        "outputId": "ed7be1a9-435c-41cc-e4c2-89bdbe1ea8c2"
      },
      "execution_count": 2,
      "outputs": [
        {
          "output_type": "stream",
          "name": "stdout",
          "text": [
            "Downloading https://www.cs.toronto.edu/~kriz/cifar-10-python.tar.gz to ./data/cifar-10-python.tar.gz\n"
          ]
        },
        {
          "output_type": "display_data",
          "data": {
            "text/plain": [
              "  0%|          | 0/170498071 [00:00<?, ?it/s]"
            ],
            "application/vnd.jupyter.widget-view+json": {
              "version_major": 2,
              "version_minor": 0,
              "model_id": "ad506cb687e24904ba9a391703472f91"
            }
          },
          "metadata": {}
        },
        {
          "output_type": "stream",
          "name": "stdout",
          "text": [
            "Extracting ./data/cifar-10-python.tar.gz to ./data\n",
            "Files already downloaded and verified\n"
          ]
        }
      ]
    },
    {
      "cell_type": "markdown",
      "source": [
        "**Utils and Helper Functions**\n",
        "\n",
        "* Train function: Runs the training of the model for the whole train dataset and returns the average loss and accuracy\n",
        "* Validate function: Runs the validation of the model for the whole test dataset and returns the average loss and accuracy\n",
        "* Plot metrics Function: Plots the losses and accuracies in a figure with subplots"
      ],
      "metadata": {
        "id": "a_weEmlCDx9J"
      }
    },
    {
      "cell_type": "code",
      "source": [
        "def imshow(img):\n",
        "    npimg = img.numpy()\n",
        "    plt.imshow(np.transpose(npimg, (1, 2, 0)))\n",
        "    plt.show()\n",
        "\n",
        "def train(model, trainloader, optimizer, criterion, device):\n",
        "  model.train()\n",
        "  model.to(device)\n",
        "\n",
        "  train_loss_avg = 0.0\n",
        "  train_accuracy = 0.0\n",
        "  total = 0\n",
        "  correct = 0\n",
        "  for batch_index, batch in enumerate(trainloader):\n",
        "    x_batch, y_batch = batch\n",
        "    x_batch, y_batch = x_batch.to(device), y_batch.to(device)\n",
        "\n",
        "    optimizer.zero_grad()\n",
        "\n",
        "    y_pred = model(x_batch)\n",
        "\n",
        "    loss = criterion(y_pred, y_batch)\n",
        "    loss.backward()\n",
        "\n",
        "    optimizer.step()\n",
        "\n",
        "    train_loss_avg += loss.item()\n",
        "    _, pred = torch.max(y_pred, dim=1)\n",
        "    total += y_batch.size(0)\n",
        "    correct += torch.sum(pred == y_batch).item()\n",
        "\n",
        "  train_loss_avg /= (batch_index + 1)\n",
        "  train_accuracy = correct / total\n",
        "\n",
        "  return  train_loss_avg, train_accuracy\n",
        "\n",
        "def validate(model, testloader, optimizer, criterion, device):\n",
        "  model.eval()\n",
        "  model.to(device)\n",
        "\n",
        "  val_loss_avg = 0.0\n",
        "  val_accuracy = 0.0\n",
        "  total = 0\n",
        "  correct = 0\n",
        "  for batch_index, batch in enumerate(testloader):\n",
        "    x_batch, y_batch = batch\n",
        "    x_batch, y_batch = x_batch.to(device), y_batch.to(device)\n",
        "\n",
        "    optimizer.zero_grad()\n",
        "\n",
        "    y_pred = model(x_batch)\n",
        "\n",
        "    loss = criterion(y_pred, y_batch)\n",
        "\n",
        "    val_loss_avg += loss.item()\n",
        "    _, pred = torch.max(y_pred, dim=1)\n",
        "    total += y_batch.size(0)\n",
        "    correct += torch.sum(pred == y_batch).item()\n",
        "\n",
        "  val_loss_avg /= (batch_index + 1)\n",
        "  val_accuracy = correct / total\n",
        "\n",
        "  return  val_loss_avg, val_accuracy\n",
        "\n",
        "def plot_metrics(index, model_name, train_loss, train_accuracy, val_loss, val_accuracy):\n",
        "  axis[0,index].set_title(f'{model_name}\\nTraining Validation Loss')\n",
        "  axis[0,index].plot(train_loss,  marker='o', label=\"Training Loss\")\n",
        "  axis[0,index].plot(val_loss,  marker='o', label=\"Validation Loss\")\n",
        "  axis[0,index].set(xlabel='Epoch', ylabel='Loss')\n",
        "  axis[0,index].legend()\n",
        "\n",
        "  axis[1,index].set_title(f'{model_name}\\nTraining Validation Accuracy')\n",
        "  axis[1,index].plot(train_accuracy, marker='o', label=\"Training Accuracy\")\n",
        "  axis[1,index].plot(val_accuracy, marker='o', label=\"Validation Accuracy\")\n",
        "  axis[1,index].set(xlabel='Epoch', ylabel='Accuracy')\n",
        "  axis[1,index].legend()"
      ],
      "metadata": {
        "id": "8ABTfdbhetcC"
      },
      "execution_count": 3,
      "outputs": []
    },
    {
      "cell_type": "markdown",
      "source": [
        "**Different model architectures**\n",
        "\n",
        "I implemented 3 different architectures of CNN models to compare them and select one to continue optimizing to achieve better results\n",
        "\n",
        "* **SimpleCNN:** A simple network containg only one convolution and two linear layers\n",
        "\n",
        "* **BaseCNN:** A shallow network containg three convolutions and three linear layers\n",
        "\n",
        "* **DoubleCNN:** A slightly more complex network containg three double convolutions (6 in total) and four linear layers"
      ],
      "metadata": {
        "id": "HbGuCbas-c4s"
      }
    },
    {
      "cell_type": "code",
      "source": [
        "class SimpleCNN(nn.Module):\n",
        "  def __init__(self):\n",
        "    super().__init__()\n",
        "    self.network = nn.Sequential(\n",
        "        nn.Conv2d(3, 32, kernel_size=3, stride=1, padding=1),\n",
        "        nn.ReLU(),\n",
        "        nn.MaxPool2d(2, 2), # output: 32 x 16 x 16\n",
        "\n",
        "        nn.Flatten(),\n",
        "\n",
        "        nn.Linear(32*16*16, 1024),\n",
        "        nn.ReLU(),\n",
        "\n",
        "        nn.Linear(1024, 10))\n",
        "      \n",
        "  def forward(self, x):\n",
        "    return self.network(x)\n",
        "\n",
        "class BaseCNN(nn.Module):\n",
        "  def __init__(self):\n",
        "    super().__init__()\n",
        "    self.network = nn.Sequential(\n",
        "      nn.Conv2d(3, 32, kernel_size=3, stride=1, padding=1),\n",
        "      nn.ReLU(),\n",
        "      nn.MaxPool2d(2, 2), # output: 32 x 16 x 16\n",
        "\n",
        "      nn.Conv2d(32, 64, kernel_size=3, stride=1, padding=1),\n",
        "      nn.ReLU(),\n",
        "      nn.MaxPool2d(2, 2), # output: 64 x 8 x 8\n",
        "\n",
        "      nn.Conv2d(64, 128, kernel_size=3, stride=1, padding=1),\n",
        "      nn.ReLU(),\n",
        "      nn.MaxPool2d(2, 2), # output: 128 x 4 x 4\n",
        "\n",
        "      nn.Flatten(),\n",
        "      \n",
        "      nn.Linear(128*4*4, 1024),\n",
        "      nn.ReLU(),\n",
        "\n",
        "      nn.Linear(1024, 512),\n",
        "      nn.ReLU(),\n",
        "\n",
        "      nn.Linear(512, 10))\n",
        "      \n",
        "  def forward(self, x):\n",
        "    return self.network(x)\n",
        "\n",
        "class DoubleCNN(nn.Module):\n",
        "  def __init__(self):\n",
        "    super().__init__()\n",
        "    self.network = nn.Sequential(\n",
        "      nn.Conv2d(3, 32, kernel_size=3, stride=1, padding=1),\n",
        "      nn.ReLU(),\n",
        "      nn.Conv2d(32, 64, kernel_size=3, stride=1, padding=1),\n",
        "      nn.ReLU(),\n",
        "      nn.MaxPool2d(2, 2), # output: 64 x 16 x 16\n",
        "\n",
        "      nn.Conv2d(64, 128, kernel_size=3, stride=1, padding=1),\n",
        "      nn.ReLU(),\n",
        "      nn.Conv2d(128, 128, kernel_size=3, stride=1, padding=1),\n",
        "      nn.ReLU(),\n",
        "      nn.MaxPool2d(2, 2), # output: 128 x 8 x 8\n",
        "\n",
        "      nn.Conv2d(128, 256, kernel_size=3, stride=1, padding=1),\n",
        "      nn.ReLU(),\n",
        "      nn.Conv2d(256, 256, kernel_size=3, stride=1, padding=1),\n",
        "      nn.ReLU(),\n",
        "      nn.MaxPool2d(2, 2), # output: 256 x 4 x 4\n",
        "\n",
        "      nn.Flatten(), \n",
        "\n",
        "      nn.Linear(256*4*4, 1024),\n",
        "      nn.ReLU(),\n",
        "\n",
        "      nn.Linear(1024, 512),\n",
        "      nn.ReLU(),\n",
        "\n",
        "      nn.Linear(512, 256),\n",
        "      nn.ReLU(),\n",
        "      \n",
        "      nn.Linear(256, 10))\n",
        "      \n",
        "  def forward(self, x):\n",
        "    return self.network(x)"
      ],
      "metadata": {
        "id": "u9WtBdB7UkdI"
      },
      "execution_count": 4,
      "outputs": []
    },
    {
      "cell_type": "markdown",
      "source": [
        "**Main training and validation script**\n",
        "\n",
        "* Train and validate the three models I defined previously\n",
        "* Plot the results to compare and select the best one to move on with optimizations"
      ],
      "metadata": {
        "id": "UWtpC53k3-DG"
      }
    },
    {
      "cell_type": "code",
      "source": [
        "runs = 3\n",
        "figure, axis = plt.subplots(2, 3, figsize=(25, 15))\n",
        "\n",
        "for idx in range(runs):\n",
        "  start = time.time()\n",
        "\n",
        "  if idx == 0:\n",
        "    model = SimpleCNN()\n",
        "    model_name = 'simple_cnn'\n",
        "    # continue\n",
        "  elif idx == 1:\n",
        "    model = BaseCNN()\n",
        "    model_name = 'base_cnn'\n",
        "    # continue\n",
        "  else:\n",
        "    model = DoubleCNN()\n",
        "    model_name = 'double_cnn'\n",
        "  \n",
        "  print('Training model: ', model)\n",
        "\n",
        "\n",
        "  # optimizer = optim.SGD(model.parameters(), lr=lr, momentum = 0.9)\n",
        "  epochs = 10\n",
        "  lr = 1e-3\n",
        "  criterion = nn.CrossEntropyLoss()\n",
        "  optimizer = optim.Adam(model.parameters(), lr=lr)\n",
        "    \n",
        "  device = torch.device(\"cuda:0\" if torch.cuda.is_available() else \"cpu\")\n",
        "\n",
        "  train_loss_list = []\n",
        "  train_accuracy_list = []\n",
        "\n",
        "  val_loss_list = []\n",
        "  val_accuracy_list = []\n",
        "\n",
        "  for epoch in range(epochs):\n",
        "    train_loss, train_accuracy = train(model, trainloader, optimizer, criterion, device)\n",
        "\n",
        "    train_loss_list.append(train_loss)\n",
        "    train_accuracy_list.append(train_accuracy)\n",
        "\n",
        "    val_loss, val_accuracy = validate(model, testloader, optimizer, criterion, device)\n",
        "\n",
        "    val_loss_list.append(val_loss)\n",
        "    val_accuracy_list.append(val_accuracy)\n",
        "\n",
        "    print('Epoch: {0:3d} | train_loss: {1:2f} | train_accuracy: {2:2f} | val_loss: {3:2f} | val_accuracy: {4:2f}'.format(epoch + 1, train_loss, train_accuracy, val_loss, val_accuracy))\n",
        "\n",
        "  end = time.time()\n",
        "\n",
        "  print(f'{model_name} model total training-validation time: {(end-start) / 60} minutes')\n",
        "\n",
        "  plot_metrics(idx, model_name, train_loss_list, train_accuracy_list, val_loss_list, val_accuracy_list)"
      ],
      "metadata": {
        "colab": {
          "base_uri": "https://localhost:8080/",
          "height": 1000
        },
        "id": "v70GTCVc2J-d",
        "outputId": "237d4273-d5a5-41dc-8326-8c6ec572aae8"
      },
      "execution_count": 5,
      "outputs": [
        {
          "output_type": "stream",
          "name": "stdout",
          "text": [
            "Training model:  DoubleCNN(\n",
            "  (network): Sequential(\n",
            "    (0): Conv2d(3, 32, kernel_size=(3, 3), stride=(1, 1), padding=(1, 1))\n",
            "    (1): ReLU()\n",
            "    (2): Conv2d(32, 64, kernel_size=(3, 3), stride=(1, 1), padding=(1, 1))\n",
            "    (3): ReLU()\n",
            "    (4): MaxPool2d(kernel_size=2, stride=2, padding=0, dilation=1, ceil_mode=False)\n",
            "    (5): Conv2d(64, 128, kernel_size=(3, 3), stride=(1, 1), padding=(1, 1))\n",
            "    (6): ReLU()\n",
            "    (7): Conv2d(128, 128, kernel_size=(3, 3), stride=(1, 1), padding=(1, 1))\n",
            "    (8): ReLU()\n",
            "    (9): MaxPool2d(kernel_size=2, stride=2, padding=0, dilation=1, ceil_mode=False)\n",
            "    (10): Conv2d(128, 256, kernel_size=(3, 3), stride=(1, 1), padding=(1, 1))\n",
            "    (11): ReLU()\n",
            "    (12): Conv2d(256, 256, kernel_size=(3, 3), stride=(1, 1), padding=(1, 1))\n",
            "    (13): ReLU()\n",
            "    (14): MaxPool2d(kernel_size=2, stride=2, padding=0, dilation=1, ceil_mode=False)\n",
            "    (15): Flatten(start_dim=1, end_dim=-1)\n",
            "    (16): Linear(in_features=4096, out_features=1024, bias=True)\n",
            "    (17): ReLU()\n",
            "    (18): Linear(in_features=1024, out_features=512, bias=True)\n",
            "    (19): ReLU()\n",
            "    (20): Linear(in_features=512, out_features=256, bias=True)\n",
            "    (21): ReLU()\n",
            "    (22): Linear(in_features=256, out_features=10, bias=True)\n",
            "  )\n",
            ")\n",
            "Epoch:   1 | train_loss: 1.823667 | train_accuracy: 0.315880 | val_loss: 1.468340 | val_accuracy: 0.452800\n",
            "Epoch:   2 | train_loss: 1.392932 | train_accuracy: 0.489300 | val_loss: 1.169088 | val_accuracy: 0.575800\n",
            "Epoch:   3 | train_loss: 1.176797 | train_accuracy: 0.577160 | val_loss: 1.072240 | val_accuracy: 0.621700\n",
            "Epoch:   4 | train_loss: 1.037155 | train_accuracy: 0.632780 | val_loss: 0.929836 | val_accuracy: 0.679600\n",
            "Epoch:   5 | train_loss: 0.920273 | train_accuracy: 0.677180 | val_loss: 0.842775 | val_accuracy: 0.704000\n",
            "Epoch:   6 | train_loss: 0.842811 | train_accuracy: 0.703940 | val_loss: 0.779913 | val_accuracy: 0.726400\n",
            "Epoch:   7 | train_loss: 0.782656 | train_accuracy: 0.727760 | val_loss: 0.760565 | val_accuracy: 0.736200\n",
            "Epoch:   8 | train_loss: 0.740600 | train_accuracy: 0.743860 | val_loss: 0.766309 | val_accuracy: 0.743100\n",
            "Epoch:   9 | train_loss: 0.705410 | train_accuracy: 0.754520 | val_loss: 0.683736 | val_accuracy: 0.771800\n",
            "Epoch:  10 | train_loss: 0.677804 | train_accuracy: 0.767280 | val_loss: 0.721205 | val_accuracy: 0.757200\n",
            "double_cnn model total training-validation time: 4.930758674939473 minutes\n"
          ]
        },
        {
          "output_type": "display_data",
          "data": {
            "text/plain": [
              "<Figure size 1800x1080 with 6 Axes>"
            ],
            "image/png": "[encoded data removed]"
          },
          "metadata": {
            "needs_background": "light"
          }
        }
      ]
    },
    {
      "cell_type": "markdown",
      "source": [
        "**Results Analysis**\n",
        "\n",
        "* All models perform good in the short span of 10 epochs and continuously drop the loss and increase the accuracy\n",
        "* In every model the accuracy and loss in the validation set outperforms the ones in the training set which is a really good signal meaning that our models actually learn and don't overfit to the data\n",
        "* It seems that the DoubleCNN model achieves slightly better results along with the BaseCNN in terms of accuracy and loss. Of course we could use more metrics such as Recall, Precision, F1 score to have a more complete set of metrics to evaluate the performance more accurately. But the accuracy and loss work as a good indicator for now\n",
        "* In that manner we will select the final model (DoubleCNN) to continue with optimizing to achieve better results"
      ],
      "metadata": {
        "id": "_e7YgGOj4Saw"
      }
    },
    {
      "cell_type": "markdown",
      "source": [
        "**Changing the model Architecture**\n",
        "*   Adding Batch Normalization to normalize the contributions to each layer for every mini-batch in order to achive a better learning process\n",
        "*   Adding Dropout Layers to help the model avoid overfitting\n",
        "* Add cb (model structure) and dp (dropout rate) parameters to dynamically change the model architecture and find what works best\n",
        "\n",
        "These changes will have an impact both in achieving a better peak performance, as well as help the learning process of the model which means converging faster and avoiding overfitting\n",
        "\n",
        "I will use the cb and dp parameters later on to optimize the model during training"
      ],
      "metadata": {
        "id": "YUB_1RQJ5jKe"
      }
    },
    {
      "cell_type": "code",
      "source": [
        "class DoubleCNN(nn.Module):\n",
        "  def __init__(self, cb=[32,64,128,256], dp=0.3):\n",
        "    super().__init__()\n",
        "    self.network = nn.Sequential(\n",
        "      nn.Conv2d(3, cb[0], kernel_size=3, stride=1, padding=1),\n",
        "      nn.BatchNorm2d(cb[0]),\n",
        "      nn.ReLU(),\n",
        "      nn.Conv2d(cb[0], cb[1], kernel_size=3, stride=1, padding=1),\n",
        "      nn.BatchNorm2d(cb[1]),\n",
        "      nn.ReLU(),\n",
        "      nn.MaxPool2d(2, 2), # output: 64 x 16 x 16\n",
        "      nn.Dropout(dp),\n",
        "\n",
        "      nn.Conv2d(cb[1], cb[2], kernel_size=3, stride=1, padding=1),\n",
        "      nn.BatchNorm2d(cb[2]),\n",
        "      nn.ReLU(),\n",
        "      nn.Conv2d(cb[2], cb[2], kernel_size=3, stride=1, padding=1),\n",
        "      nn.BatchNorm2d(cb[2]),\n",
        "      nn.ReLU(),\n",
        "      nn.MaxPool2d(2, 2), # output: 128 x 8 x 8\n",
        "      nn.Dropout(dp),\n",
        "\n",
        "      nn.Conv2d(cb[2], cb[3], kernel_size=3, stride=1, padding=1),\n",
        "      nn.BatchNorm2d(cb[3]),\n",
        "      nn.ReLU(),\n",
        "      nn.Conv2d(cb[3], cb[3], kernel_size=3, stride=1, padding=1),\n",
        "      nn.BatchNorm2d(cb[3]),\n",
        "      nn.ReLU(),\n",
        "      nn.MaxPool2d(2, 2), # output: 256 x 4 x 4\n",
        "      nn.Dropout(dp),\n",
        "\n",
        "      nn.Flatten(), \n",
        "\n",
        "      nn.Linear(cb[3]*4*4, 1024),\n",
        "      nn.ReLU(),\n",
        "\n",
        "      nn.Linear(1024, 512),\n",
        "      nn.ReLU(),\n",
        "\n",
        "      nn.Linear(512, 256),\n",
        "      nn.ReLU(),\n",
        "      \n",
        "      nn.Linear(256, 10))\n",
        "      \n",
        "  def forward(self, x):\n",
        "    return self.network(x)"
      ],
      "metadata": {
        "id": "uLESlUGDCcEL"
      },
      "execution_count": 6,
      "outputs": []
    },
    {
      "cell_type": "markdown",
      "source": [
        "Training and Validating with the addition of Batch Normalization and Dropout Layers"
      ],
      "metadata": {
        "id": "VVgykWlXXT7O"
      }
    },
    {
      "cell_type": "code",
      "source": [
        "model = DoubleCNN()\n",
        "model_name = 'double_cnn'\n",
        "\n",
        "print('Training model: ', model)\n",
        "\n",
        "# optimizer = optim.SGD(model.parameters(), lr=lr, momentum = 0.9)\n",
        "epochs = 10\n",
        "lr = 1e-3\n",
        "optimizer = optim.Adam(model.parameters(), lr=lr)\n",
        "criterion = nn.CrossEntropyLoss()\n",
        "\n",
        "device = torch.device(\"cuda:0\" if torch.cuda.is_available() else \"cpu\")\n",
        "\n",
        "train_loss_list = []\n",
        "train_accuracy_list = []\n",
        "\n",
        "val_loss_list = []\n",
        "val_accuracy_list = []\n",
        "\n",
        "for epoch in range(epochs):\n",
        "  train_loss, train_accuracy = train(model, trainloader, optimizer, criterion, device)\n",
        "\n",
        "  train_loss_list.append(train_loss)\n",
        "  train_accuracy_list.append(train_accuracy)\n",
        "\n",
        "  val_loss, val_accuracy = validate(model, testloader, optimizer, criterion, device)\n",
        "\n",
        "  val_loss_list.append(val_loss)\n",
        "  val_accuracy_list.append(val_accuracy)\n",
        "\n",
        "  print('Epoch: {0:3d} | train_loss: {1:2f} | train_accuracy: {2:2f} | val_loss: {3:2f} | val_accuracy: {4:2f}'.format(epoch + 1, train_loss, train_accuracy, val_loss, val_accuracy))\n",
        "\n",
        "plt.figure(figsize=(10,10))\n",
        "plt.plot(train_loss_list,  marker='o', label=\"Training Loss\")\n",
        "plt.plot(val_loss_list,  marker='o', label=\"Validation Loss\")\n",
        "plt.ylabel('Loss', fontsize=22)\n",
        "plt.xlabel('Epoch', fontsize=22)\n",
        "plt.legend()\n",
        "plt.show()\n",
        "\n",
        "plt.figure(figsize=(10,10))\n",
        "plt.plot(train_accuracy_list,  marker='o', label=\"Training Accuracy\")\n",
        "plt.plot(val_accuracy_list,  marker='o', label=\"Validation Accuracy\")\n",
        "plt.ylabel('Accuracy', fontsize=22)\n",
        "plt.xlabel('Epoch', fontsize=22)\n",
        "plt.legend()\n",
        "plt.show()"
      ],
      "metadata": {
        "colab": {
          "base_uri": "https://localhost:8080/",
          "height": 1000
        },
        "id": "6HTI6gkk5m8O",
        "outputId": "6041e50c-d9e3-4237-8815-90a3ae1b0002"
      },
      "execution_count": 7,
      "outputs": [
        {
          "output_type": "stream",
          "name": "stdout",
          "text": [
            "Training model:  DoubleCNN(\n",
            "  (network): Sequential(\n",
            "    (0): Conv2d(3, 32, kernel_size=(3, 3), stride=(1, 1), padding=(1, 1))\n",
            "    (1): BatchNorm2d(32, eps=1e-05, momentum=0.1, affine=True, track_running_stats=True)\n",
            "    (2): ReLU()\n",
            "    (3): Conv2d(32, 64, kernel_size=(3, 3), stride=(1, 1), padding=(1, 1))\n",
            "    (4): BatchNorm2d(64, eps=1e-05, momentum=0.1, affine=True, track_running_stats=True)\n",
            "    (5): ReLU()\n",
            "    (6): MaxPool2d(kernel_size=2, stride=2, padding=0, dilation=1, ceil_mode=False)\n",
            "    (7): Dropout(p=0.3, inplace=False)\n",
            "    (8): Conv2d(64, 128, kernel_size=(3, 3), stride=(1, 1), padding=(1, 1))\n",
            "    (9): BatchNorm2d(128, eps=1e-05, momentum=0.1, affine=True, track_running_stats=True)\n",
            "    (10): ReLU()\n",
            "    (11): Conv2d(128, 128, kernel_size=(3, 3), stride=(1, 1), padding=(1, 1))\n",
            "    (12): BatchNorm2d(128, eps=1e-05, momentum=0.1, affine=True, track_running_stats=True)\n",
            "    (13): ReLU()\n",
            "    (14): MaxPool2d(kernel_size=2, stride=2, padding=0, dilation=1, ceil_mode=False)\n",
            "    (15): Dropout(p=0.3, inplace=False)\n",
            "    (16): Conv2d(128, 256, kernel_size=(3, 3), stride=(1, 1), padding=(1, 1))\n",
            "    (17): BatchNorm2d(256, eps=1e-05, momentum=0.1, affine=True, track_running_stats=True)\n",
            "    (18): ReLU()\n",
            "    (19): Conv2d(256, 256, kernel_size=(3, 3), stride=(1, 1), padding=(1, 1))\n",
            "    (20): BatchNorm2d(256, eps=1e-05, momentum=0.1, affine=True, track_running_stats=True)\n",
            "    (21): ReLU()\n",
            "    (22): MaxPool2d(kernel_size=2, stride=2, padding=0, dilation=1, ceil_mode=False)\n",
            "    (23): Dropout(p=0.3, inplace=False)\n",
            "    (24): Flatten(start_dim=1, end_dim=-1)\n",
            "    (25): Linear(in_features=4096, out_features=1024, bias=True)\n",
            "    (26): ReLU()\n",
            "    (27): Linear(in_features=1024, out_features=512, bias=True)\n",
            "    (28): ReLU()\n",
            "    (29): Linear(in_features=512, out_features=256, bias=True)\n",
            "    (30): ReLU()\n",
            "    (31): Linear(in_features=256, out_features=10, bias=True)\n",
            "  )\n",
            ")\n",
            "Epoch:   1 | train_loss: 1.651813 | train_accuracy: 0.371640 | val_loss: 1.354816 | val_accuracy: 0.493800\n",
            "Epoch:   2 | train_loss: 1.207247 | train_accuracy: 0.562360 | val_loss: 0.969499 | val_accuracy: 0.652400\n",
            "Epoch:   3 | train_loss: 0.998877 | train_accuracy: 0.642400 | val_loss: 0.843722 | val_accuracy: 0.696200\n",
            "Epoch:   4 | train_loss: 0.876722 | train_accuracy: 0.691280 | val_loss: 0.770344 | val_accuracy: 0.741000\n",
            "Epoch:   5 | train_loss: 0.785223 | train_accuracy: 0.726720 | val_loss: 0.670804 | val_accuracy: 0.764600\n",
            "Epoch:   6 | train_loss: 0.718208 | train_accuracy: 0.752240 | val_loss: 0.651736 | val_accuracy: 0.775500\n",
            "Epoch:   7 | train_loss: 0.661291 | train_accuracy: 0.773400 | val_loss: 0.603521 | val_accuracy: 0.796500\n",
            "Epoch:   8 | train_loss: 0.619130 | train_accuracy: 0.786520 | val_loss: 0.519789 | val_accuracy: 0.827000\n",
            "Epoch:   9 | train_loss: 0.584358 | train_accuracy: 0.799960 | val_loss: 0.585676 | val_accuracy: 0.804100\n",
            "Epoch:  10 | train_loss: 0.558680 | train_accuracy: 0.809560 | val_loss: 0.546341 | val_accuracy: 0.825000\n"
          ]
        },
        {
          "output_type": "display_data",
          "data": {
            "text/plain": [
              "<Figure size 720x720 with 1 Axes>"
            ],
            "image/png": "[encoded data removed]"
          },
          "metadata": {
            "needs_background": "light"
          }
        },
        {
          "output_type": "display_data",
          "data": {
            "text/plain": [
              "<Figure size 720x720 with 1 Axes>"
            ],
            "image/png": "[encoded data removed]"
          },
          "metadata": {
            "needs_background": "light"
          }
        }
      ]
    },
    {
      "cell_type": "markdown",
      "source": [
        "**Testing the model in a few random samples and visualing the predictions**"
      ],
      "metadata": {
        "id": "HVyzajOnY-2c"
      }
    },
    {
      "cell_type": "code",
      "source": [
        "def predict_image(images, model):\n",
        "  model.to(device)\n",
        "  images = images.to(device)\n",
        "  # Get predictions from model\n",
        "  yb = model(images)\n",
        "  # Pick index with highest probability\n",
        "  _, preds  = torch.max(yb, dim=1)\n",
        "  # Retrieve the class label\n",
        "  return preds\n",
        "\n",
        "test_loader = torch.utils.data.DataLoader(testset, batch_size=8,\n",
        "                                         shuffle=False, num_workers=2)\n",
        "dataiter = iter(test_loader)\n",
        "images, labels = next(dataiter)\n",
        "\n",
        "imshow(torchvision.utils.make_grid(images))\n",
        "print('GroundTruth: ', ' '.join(f'{classes[labels[j]]:5s}' for j in range(8)))\n",
        "\n",
        "predicted = predict_image(images, model)\n",
        "print('Predicted: ', ' '.join(f'{classes[predicted[j]]:5s}'\n",
        "                              for j in range(8)))"
      ],
      "metadata": {
        "colab": {
          "base_uri": "https://localhost:8080/",
          "height": 131
        },
        "id": "BjYMWKdXZCnd",
        "outputId": "9d44fcee-51a2-4c8b-aa2d-d732a1fbe914"
      },
      "execution_count": 8,
      "outputs": [
        {
          "output_type": "display_data",
          "data": {
            "text/plain": [
              "<Figure size 432x288 with 1 Axes>"
            ],
            "image/png": "[encoded data removed]"
          },
          "metadata": {
            "needs_background": "light"
          }
        },
        {
          "output_type": "stream",
          "name": "stdout",
          "text": [
            "GroundTruth:  cat   ship  ship  plane frog  frog  car   frog \n",
            "Predicted:  cat   ship  ship  plane frog  frog  car   frog \n"
          ]
        }
      ]
    },
    {
      "cell_type": "markdown",
      "source": [
        "**Training and Validating multiple model architectures of DoubleCNN by performing a custom search for not only hyperparameter tuning but also for oprimizing the model architecture (tuning the number of feature maps in each convolutional block and tuning the dropout rates)**\n",
        "* The model during testing achieved more than 90% accuracy in the validation set which is a really good performance overall\n",
        "* In real life conditions I would set \"runs\" to 500 and \"epochs\" to 200 in order to let the model adapt itself and find the best possible architecture and parameters to achieve the best results\n",
        "* Here I set \"runs\" to 5 and \"epochs\" to 30 to speed up the whole procedure\n",
        "* The idea is that I will train 5 different models each for 30 epochs. If the model is stuck with the same validation accuracy for 10 consecutive epochs then I reduce the learning rate otherwise I save the best model and continue training"
      ],
      "metadata": {
        "id": "D8j2Ur7RWVSB"
      }
    },
    {
      "cell_type": "code",
      "source": [
        "runs = 5\n",
        "os.mkdir('./saved_models')\n",
        "for idx in range(runs):\n",
        "  print('Training model: ', idx)\n",
        "  epochs = 30\n",
        "  lr = np.random.uniform(low=5e-4, high=1e-2, size=(1,))[0]\n",
        "  dropout = np.random.uniform(low=0.3, high=0.5, size=(1,))[0]\n",
        "  model_struct = [randint(35, 50), randint(25, 60), randint(50, 120), randint(100, 200)] #[32, 64, 128, 256]\n",
        "\n",
        "  model_save_path = os.path.join('./saved_models/', 'CIFAR_Classifier_'\n",
        "                                       + str(lr) + '_'\n",
        "                                       + str(epochs) + '_'\n",
        "                                       + str(dropout) + '_'\n",
        "                                       + 'kernels' + str(model_struct[0]) + '_' + str(model_struct[1])\n",
        "                                       + '_' + str(model_struct[2]) + '_' + str(model_struct[3]) + '.pt')\n",
        "\n",
        "  print('Defined Net')\n",
        "  print('Model Structure: ', model_struct)\n",
        "  print('Learning rate: ', lr)\n",
        "  print('Dropout rate: ', dropout)\n",
        "\n",
        "  model = DoubleCNN(cb=model_struct, dp=dropout)\n",
        "  model_name = 'double_cnn'\n",
        "\n",
        "  optimizer = optim.Adam(model.parameters(), lr=lr)\n",
        "  criterion = nn.CrossEntropyLoss()\n",
        "\n",
        "  device = torch.device(\"cuda:0\" if torch.cuda.is_available() else \"cpu\")\n",
        "\n",
        "  lowest_loss = 1e6\n",
        "  highest_accuracy = -1\n",
        "  count = 0\n",
        "\n",
        "  train_loss_list = []\n",
        "  train_accuracy_list = []\n",
        "\n",
        "  val_loss_list = []\n",
        "  val_accuracy_list = []\n",
        "\n",
        "  for epoch in range(epochs):\n",
        "    count += 1\n",
        "    train_loss, train_accuracy = train(model, trainloader, optimizer, criterion, device)\n",
        "\n",
        "    train_loss_list.append(train_loss)\n",
        "    train_accuracy_list.append(train_accuracy)\n",
        "\n",
        "    val_loss, val_accuracy = validate(model, testloader, optimizer, criterion, device)\n",
        "\n",
        "    val_loss_list.append(val_loss)\n",
        "    val_accuracy_list.append(val_accuracy)\n",
        "\n",
        "    if count == 10:\n",
        "      count = 0\n",
        "      model = DoubleCNN(cb=model_struct, drop=dropout)  # get a new instance\n",
        "      model.load_state_dict(best_model.state_dict())\n",
        "\n",
        "      lr = lr / 2\n",
        "\n",
        "      print('new learning rate: ', lr)\n",
        "      for param_group in optimizer.param_groups:\n",
        "          param_group['lr'] = lr\n",
        "\n",
        "    if val_accuracy > highest_accuracy:\n",
        "      count = 0\n",
        "      best_model = DoubleCNN(cb=model_struct, dp=dropout)  # get a new instance\n",
        "      best_model.load_state_dict(model.state_dict())\n",
        "\n",
        "      highest_accuracy = val_accuracy\n",
        "\n",
        "      torch.save(model.state_dict(), model_save_path)\n",
        "\n",
        "      print('Epoch: {0:3d} | train_loss: {1:2f} | train_accuracy: {2:2f} | val_loss: {3:2f} | val_accuracy: {4:2f}'.format(epoch + 1, train_loss, train_accuracy, val_loss, val_accuracy))\n",
        "      print('Best Model Saved')\n",
        "\n",
        "plt.figure(figsize=(10,10))\n",
        "plt.plot(train_loss_list,  marker='o', label=\"Training Loss\")\n",
        "plt.plot(val_loss_list,  marker='o', label=\"Validation Loss\")\n",
        "plt.ylabel('Loss', fontsize=22)\n",
        "plt.xlabel('Epoch', fontsize=22)\n",
        "plt.legend()\n",
        "plt.show()\n",
        "\n",
        "plt.figure(figsize=(10,10))\n",
        "plt.plot(train_accuracy_list,  marker='o', label=\"Training Accuracy\")\n",
        "plt.plot(val_accuracy_list,  marker='o', label=\"Validation Accuracy\")\n",
        "plt.ylabel('Accuracy', fontsize=22)\n",
        "plt.xlabel('Epoch', fontsize=22)\n",
        "plt.legend()\n",
        "plt.show()"
      ],
      "metadata": {
        "id": "9KwYb3DZJrYm",
        "colab": {
          "base_uri": "https://localhost:8080/",
          "height": 1000
        },
        "outputId": "90a9940e-cb85-487e-c638-3046c34da902"
      },
      "execution_count": 9,
      "outputs": [
        {
          "output_type": "stream",
          "name": "stdout",
          "text": [
            "Training model:  0\n",
            "Defined Net\n",
            "Model Structure:  [38, 45, 110, 186]\n",
            "Learning rate:  0.0008773259757064614\n",
            "Dropout rate:  0.38076935825413016\n",
            "Epoch:   1 | train_loss: 1.613153 | train_accuracy: 0.391740 | val_loss: 1.220437 | val_accuracy: 0.559400\n",
            "Best Model Saved\n",
            "Epoch:   2 | train_loss: 1.193782 | train_accuracy: 0.571820 | val_loss: 1.000092 | val_accuracy: 0.644200\n",
            "Best Model Saved\n",
            "Epoch:   3 | train_loss: 1.016085 | train_accuracy: 0.637680 | val_loss: 0.968389 | val_accuracy: 0.669800\n",
            "Best Model Saved\n",
            "Epoch:   4 | train_loss: 0.908658 | train_accuracy: 0.680600 | val_loss: 0.831497 | val_accuracy: 0.709600\n",
            "Best Model Saved\n",
            "Epoch:   5 | train_loss: 0.836163 | train_accuracy: 0.704800 | val_loss: 0.734229 | val_accuracy: 0.748300\n",
            "Best Model Saved\n",
            "Epoch:   6 | train_loss: 0.779139 | train_accuracy: 0.728600 | val_loss: 0.691699 | val_accuracy: 0.766200\n",
            "Best Model Saved\n",
            "Epoch:   7 | train_loss: 0.731210 | train_accuracy: 0.744380 | val_loss: 0.652813 | val_accuracy: 0.777700\n",
            "Best Model Saved\n",
            "Epoch:   8 | train_loss: 0.691342 | train_accuracy: 0.760860 | val_loss: 0.618575 | val_accuracy: 0.784900\n",
            "Best Model Saved\n",
            "Epoch:   9 | train_loss: 0.658814 | train_accuracy: 0.770980 | val_loss: 0.569774 | val_accuracy: 0.803500\n",
            "Best Model Saved\n",
            "Epoch:  11 | train_loss: 0.605459 | train_accuracy: 0.791160 | val_loss: 0.517203 | val_accuracy: 0.822100\n",
            "Best Model Saved\n",
            "Epoch:  12 | train_loss: 0.584928 | train_accuracy: 0.798500 | val_loss: 0.497709 | val_accuracy: 0.831200\n",
            "Best Model Saved\n",
            "Epoch:  13 | train_loss: 0.564235 | train_accuracy: 0.805040 | val_loss: 0.495922 | val_accuracy: 0.831900\n",
            "Best Model Saved\n",
            "Epoch:  15 | train_loss: 0.536859 | train_accuracy: 0.816020 | val_loss: 0.459328 | val_accuracy: 0.845500\n",
            "Best Model Saved\n",
            "Epoch:  16 | train_loss: 0.516601 | train_accuracy: 0.822760 | val_loss: 0.477309 | val_accuracy: 0.846600\n",
            "Best Model Saved\n",
            "Epoch:  17 | train_loss: 0.504526 | train_accuracy: 0.825160 | val_loss: 0.450902 | val_accuracy: 0.852500\n",
            "Best Model Saved\n",
            "Epoch:  19 | train_loss: 0.479846 | train_accuracy: 0.834440 | val_loss: 0.428619 | val_accuracy: 0.854000\n",
            "Best Model Saved\n",
            "Epoch:  21 | train_loss: 0.465356 | train_accuracy: 0.840060 | val_loss: 0.448965 | val_accuracy: 0.859000\n",
            "Best Model Saved\n",
            "Epoch:  22 | train_loss: 0.454118 | train_accuracy: 0.844260 | val_loss: 0.399356 | val_accuracy: 0.866000\n",
            "Best Model Saved\n",
            "Epoch:  23 | train_loss: 0.447315 | train_accuracy: 0.847160 | val_loss: 0.393002 | val_accuracy: 0.871200\n",
            "Best Model Saved\n",
            "Epoch:  28 | train_loss: 0.407369 | train_accuracy: 0.860680 | val_loss: 0.384711 | val_accuracy: 0.872700\n",
            "Best Model Saved\n",
            "Epoch:  29 | train_loss: 0.404544 | train_accuracy: 0.861060 | val_loss: 0.365951 | val_accuracy: 0.878900\n",
            "Best Model Saved\n",
            "Training model:  1\n",
            "Defined Net\n",
            "Model Structure:  [38, 59, 118, 132]\n",
            "Learning rate:  0.009378129065614025\n",
            "Dropout rate:  0.3625243364720907\n",
            "Epoch:   1 | train_loss: 2.014067 | train_accuracy: 0.228780 | val_loss: 1.774487 | val_accuracy: 0.328800\n",
            "Best Model Saved\n",
            "Epoch:   2 | train_loss: 1.677837 | train_accuracy: 0.358980 | val_loss: 1.811520 | val_accuracy: 0.384400\n",
            "Best Model Saved\n",
            "Epoch:   3 | train_loss: 1.445000 | train_accuracy: 0.464340 | val_loss: 1.299693 | val_accuracy: 0.529600\n",
            "Best Model Saved\n",
            "Epoch:   4 | train_loss: 1.294419 | train_accuracy: 0.532500 | val_loss: 1.158728 | val_accuracy: 0.585300\n",
            "Best Model Saved\n",
            "Epoch:   6 | train_loss: 1.128200 | train_accuracy: 0.600720 | val_loss: 1.113926 | val_accuracy: 0.602300\n",
            "Best Model Saved\n",
            "Epoch:   7 | train_loss: 1.051608 | train_accuracy: 0.627180 | val_loss: 0.968997 | val_accuracy: 0.652900\n",
            "Best Model Saved\n",
            "Epoch:   8 | train_loss: 1.013620 | train_accuracy: 0.639660 | val_loss: 1.070704 | val_accuracy: 0.655800\n",
            "Best Model Saved\n",
            "Epoch:   9 | train_loss: 0.983180 | train_accuracy: 0.652460 | val_loss: 0.828971 | val_accuracy: 0.707200\n",
            "Best Model Saved\n",
            "Epoch:  11 | train_loss: 0.924262 | train_accuracy: 0.678540 | val_loss: 0.790250 | val_accuracy: 0.723800\n",
            "Best Model Saved\n",
            "Epoch:  12 | train_loss: 0.910105 | train_accuracy: 0.683380 | val_loss: 0.739971 | val_accuracy: 0.745700\n",
            "Best Model Saved\n"
          ]
        },
        {
          "output_type": "error",
          "ename": "KeyboardInterrupt",
          "evalue": "ignored",
          "traceback": [
            "\u001b[0;31m---------------------------------------------------------------------------\u001b[0m",
            "\u001b[0;31mKeyboardInterrupt\u001b[0m                         Traceback (most recent call last)",
            "\u001b[0;32m<ipython-input-9-4fdfc411f759>\u001b[0m in \u001b[0;36m<module>\u001b[0;34m\u001b[0m\n\u001b[1;32m     40\u001b[0m   \u001b[0;32mfor\u001b[0m \u001b[0mepoch\u001b[0m \u001b[0;32min\u001b[0m \u001b[0mrange\u001b[0m\u001b[0;34m(\u001b[0m\u001b[0mepochs\u001b[0m\u001b[0;34m)\u001b[0m\u001b[0;34m:\u001b[0m\u001b[0;34m\u001b[0m\u001b[0;34m\u001b[0m\u001b[0m\n\u001b[1;32m     41\u001b[0m     \u001b[0mcount\u001b[0m \u001b[0;34m+=\u001b[0m \u001b[0;36m1\u001b[0m\u001b[0;34m\u001b[0m\u001b[0;34m\u001b[0m\u001b[0m\n\u001b[0;32m---> 42\u001b[0;31m     \u001b[0mtrain_loss\u001b[0m\u001b[0;34m,\u001b[0m \u001b[0mtrain_accuracy\u001b[0m \u001b[0;34m=\u001b[0m \u001b[0mtrain\u001b[0m\u001b[0;34m(\u001b[0m\u001b[0mmodel\u001b[0m\u001b[0;34m,\u001b[0m \u001b[0mtrainloader\u001b[0m\u001b[0;34m,\u001b[0m \u001b[0moptimizer\u001b[0m\u001b[0;34m,\u001b[0m \u001b[0mcriterion\u001b[0m\u001b[0;34m,\u001b[0m \u001b[0mdevice\u001b[0m\u001b[0;34m)\u001b[0m\u001b[0;34m\u001b[0m\u001b[0;34m\u001b[0m\u001b[0m\n\u001b[0m\u001b[1;32m     43\u001b[0m \u001b[0;34m\u001b[0m\u001b[0m\n\u001b[1;32m     44\u001b[0m     \u001b[0mtrain_loss_list\u001b[0m\u001b[0;34m.\u001b[0m\u001b[0mappend\u001b[0m\u001b[0;34m(\u001b[0m\u001b[0mtrain_loss\u001b[0m\u001b[0;34m)\u001b[0m\u001b[0;34m\u001b[0m\u001b[0;34m\u001b[0m\u001b[0m\n",
            "\u001b[0;32m<ipython-input-3-60dab8748367>\u001b[0m in \u001b[0;36mtrain\u001b[0;34m(model, trainloader, optimizer, criterion, device)\u001b[0m\n\u001b[1;32m     26\u001b[0m \u001b[0;34m\u001b[0m\u001b[0m\n\u001b[1;32m     27\u001b[0m     \u001b[0mtrain_loss_avg\u001b[0m \u001b[0;34m+=\u001b[0m \u001b[0mloss\u001b[0m\u001b[0;34m.\u001b[0m\u001b[0mitem\u001b[0m\u001b[0;34m(\u001b[0m\u001b[0;34m)\u001b[0m\u001b[0;34m\u001b[0m\u001b[0;34m\u001b[0m\u001b[0m\n\u001b[0;32m---> 28\u001b[0;31m     \u001b[0m_\u001b[0m\u001b[0;34m,\u001b[0m \u001b[0mpred\u001b[0m \u001b[0;34m=\u001b[0m \u001b[0mtorch\u001b[0m\u001b[0;34m.\u001b[0m\u001b[0mmax\u001b[0m\u001b[0;34m(\u001b[0m\u001b[0my_pred\u001b[0m\u001b[0;34m,\u001b[0m \u001b[0mdim\u001b[0m\u001b[0;34m=\u001b[0m\u001b[0;36m1\u001b[0m\u001b[0;34m)\u001b[0m\u001b[0;34m\u001b[0m\u001b[0;34m\u001b[0m\u001b[0m\n\u001b[0m\u001b[1;32m     29\u001b[0m     \u001b[0mtotal\u001b[0m \u001b[0;34m+=\u001b[0m \u001b[0my_batch\u001b[0m\u001b[0;34m.\u001b[0m\u001b[0msize\u001b[0m\u001b[0;34m(\u001b[0m\u001b[0;36m0\u001b[0m\u001b[0;34m)\u001b[0m\u001b[0;34m\u001b[0m\u001b[0;34m\u001b[0m\u001b[0m\n\u001b[1;32m     30\u001b[0m     \u001b[0mcorrect\u001b[0m \u001b[0;34m+=\u001b[0m \u001b[0mtorch\u001b[0m\u001b[0;34m.\u001b[0m\u001b[0msum\u001b[0m\u001b[0;34m(\u001b[0m\u001b[0mpred\u001b[0m \u001b[0;34m==\u001b[0m \u001b[0my_batch\u001b[0m\u001b[0;34m)\u001b[0m\u001b[0;34m.\u001b[0m\u001b[0mitem\u001b[0m\u001b[0;34m(\u001b[0m\u001b[0;34m)\u001b[0m\u001b[0;34m\u001b[0m\u001b[0;34m\u001b[0m\u001b[0m\n",
            "\u001b[0;31mKeyboardInterrupt\u001b[0m: "
          ]
        }
      ]
    }
  ]
}